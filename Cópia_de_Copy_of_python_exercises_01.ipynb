{
  "nbformat": 4,
  "nbformat_minor": 0,
  "metadata": {
    "colab": {
      "name": "Cópia de Copy of python_exercises_01.ipynb",
      "provenance": [],
      "collapsed_sections": [],
      "include_colab_link": true
    },
    "kernelspec": {
      "name": "python3",
      "display_name": "Python 3"
    }
  },
  "cells": [
    {
      "cell_type": "markdown",
      "metadata": {
        "id": "view-in-github",
        "colab_type": "text"
      },
      "source": [
        "<a href=\"https://colab.research.google.com/github/Leriston/br-python-condensed/blob/main/C%C3%B3pia_de_Copy_of_python_exercises_01.ipynb\" target=\"_parent\"><img src=\"https://colab.research.google.com/assets/colab-badge.svg\" alt=\"Open In Colab\"/></a>"
      ]
    },
    {
      "cell_type": "markdown",
      "metadata": {
        "id": "8YqaSZgXYJ5g"
      },
      "source": [
        "![](https://i.imgur.com/YX6UATs.png)\n"
      ]
    },
    {
      "cell_type": "markdown",
      "metadata": {
        "id": "hhUVzDipaGb9"
      },
      "source": [
        "### **Exercícios de Python - 1** \n",
        "\n",
        "\n",
        "\n"
      ]
    },
    {
      "cell_type": "markdown",
      "metadata": {
        "id": "qMGp-h8OaGqr"
      },
      "source": [
        "1 - Faça um programa, com uma função que necessite de três argumentos, e que forneça a soma desses três argumentos."
      ]
    },
    {
      "cell_type": "code",
      "metadata": {
        "id": "kTg-D89NdCld",
        "colab": {
          "base_uri": "https://localhost:8080/"
        },
        "outputId": "f4b85b5c-c835-44ff-ee41-60120291c854"
      },
      "source": [
        "A = 3\n",
        "B = 5\n",
        "C = 10\n",
        "A + B + C"
      ],
      "execution_count": null,
      "outputs": [
        {
          "output_type": "execute_result",
          "data": {
            "text/plain": [
              "18"
            ]
          },
          "metadata": {
            "tags": []
          },
          "execution_count": 3
        }
      ]
    },
    {
      "cell_type": "markdown",
      "metadata": {
        "id": "lbmomvvbNgJN"
      },
      "source": [
        "**Informe o a medida para:**"
      ]
    },
    {
      "cell_type": "markdown",
      "metadata": {
        "id": "buP4eXdnPmfW"
      },
      "source": [
        "**Insira a medida de cada letra para obter a soma**"
      ]
    },
    {
      "cell_type": "code",
      "metadata": {
        "id": "5olVLWNeOyG-",
        "colab": {
          "base_uri": "https://localhost:8080/"
        },
        "outputId": "aa8a82cb-3c47-489a-c4ed-4e77e30312ba"
      },
      "source": [
        "A = input (\"Medida A:\")\n",
        "B = input (\"Medida B:\")\n",
        "C = input (\"Medida C:\")"
      ],
      "execution_count": 28,
      "outputs": [
        {
          "output_type": "stream",
          "text": [
            "Medida A:10\n",
            "Medida B:8\n",
            "Medida C:5\n"
          ],
          "name": "stdout"
        }
      ]
    },
    {
      "cell_type": "code",
      "metadata": {
        "id": "zajPdSc3pRrP"
      },
      "source": [
        "A = int(A)\n",
        "B = int(B)\n",
        "C = int (C)"
      ],
      "execution_count": 39,
      "outputs": []
    },
    {
      "cell_type": "code",
      "metadata": {
        "colab": {
          "base_uri": "https://localhost:8080/"
        },
        "id": "CKH5FMn7P_8G",
        "outputId": "a9931d5b-cf78-43ab-afff-54e7d189dfe5"
      },
      "source": [
        "Total = A + B + C\n",
        "Total"
      ],
      "execution_count": 40,
      "outputs": [
        {
          "output_type": "execute_result",
          "data": {
            "text/plain": [
              "23"
            ]
          },
          "metadata": {
            "tags": []
          },
          "execution_count": 40
        }
      ]
    },
    {
      "cell_type": "code",
      "metadata": {
        "id": "iYpuHGGOPl8H"
      },
      "source": [
        ""
      ],
      "execution_count": null,
      "outputs": []
    },
    {
      "cell_type": "markdown",
      "metadata": {
        "id": "KdLXZftIaG60"
      },
      "source": [
        "2 - Faça um Programa que peça a temperatura em graus Celsius, transforme e mostre em graus Fahrenheit. \\\n",
        "*Dica: procure a fórmula para essa conversão na internet*"
      ]
    },
    {
      "cell_type": "markdown",
      "metadata": {
        "id": "0xd-rljDsGSv"
      },
      "source": [
        "**Conversor de temperatura: °C >> °F**"
      ]
    },
    {
      "cell_type": "code",
      "metadata": {
        "id": "yfy-HbwZx--7"
      },
      "source": [
        "def Conversor_F():\n",
        "  Celsius = input (\"Insira a temperatura em °C:\")\n",
        "  Celsius_NÚM = int (Celsius)\n",
        "  Fahrenheit = (Celsius_NÚM * (9/5)) + 32\n",
        "  Temperatura = str (Fahrenheit) + \" °F\"\n",
        "  return f\"Olá, a temperatura é: {Temperatura}\""
      ],
      "execution_count": 71,
      "outputs": []
    },
    {
      "cell_type": "code",
      "metadata": {
        "colab": {
          "base_uri": "https://localhost:8080/",
          "height": 52
        },
        "id": "ZTF92Zt2yhp9",
        "outputId": "125b2739-62e7-4cc0-e622-e9de138dbc88"
      },
      "source": [
        "Conversor_F()"
      ],
      "execution_count": 72,
      "outputs": [
        {
          "output_type": "stream",
          "text": [
            "Insira a temperatura em °C:25\n"
          ],
          "name": "stdout"
        },
        {
          "output_type": "execute_result",
          "data": {
            "application/vnd.google.colaboratory.intrinsic+json": {
              "type": "string"
            },
            "text/plain": [
              "'Olá, a temperatura é: 77.0 °F'"
            ]
          },
          "metadata": {
            "tags": []
          },
          "execution_count": 72
        }
      ]
    },
    {
      "cell_type": "markdown",
      "metadata": {
        "id": "4OETBVgmaGzX"
      },
      "source": [
        "3 - Faça um Programa que peça um número inteiro e determine se ele é par ou impar. Dica: utilize o operador módulo (resto da divisão)."
      ]
    },
    {
      "cell_type": "code",
      "metadata": {
        "id": "WbzCimFZVSr1"
      },
      "source": [
        "teste3 - Versão modificada"
      ],
      "execution_count": null,
      "outputs": []
    },
    {
      "cell_type": "markdown",
      "metadata": {
        "id": "7zPJ8sgPaGw0"
      },
      "source": [
        "4 - Faça um programa que peça o tamanho de um arquivo para download (em MB) e a velocidade de um link de Internet (em Mbps), calcule e informe o tempo aproximado de download do arquivo usando este link (em minutos)."
      ]
    },
    {
      "cell_type": "code",
      "metadata": {
        "id": "l4qtSxU7XquB"
      },
      "source": [
        ""
      ],
      "execution_count": null,
      "outputs": []
    },
    {
      "cell_type": "markdown",
      "metadata": {
        "id": "0tkhm6EUaG1u"
      },
      "source": [
        "5 - Faça um programa para a leitura de duas notas parciais de um aluno. O programa deve calcular a média alcançada por aluno e apresentar:\n",
        "- A mensagem \"Aprovado\", se a média alcançada for maior ou igual a sete;\n",
        "- A mensagem \"Reprovado\", se a média for menor do que sete;\n",
        "- A mensagem \"Aprovado com Distinção\", se a média for igual a dez."
      ]
    },
    {
      "cell_type": "code",
      "metadata": {
        "id": "990mQ6UhdwKl"
      },
      "source": [
        ""
      ],
      "execution_count": null,
      "outputs": []
    },
    {
      "cell_type": "markdown",
      "metadata": {
        "id": "Lm1tOKThnU42"
      },
      "source": [
        "Exercícios adaptados de Python Brasil"
      ]
    }
  ]
}